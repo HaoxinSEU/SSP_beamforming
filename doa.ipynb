{
 "cells": [
  {
   "cell_type": "code",
   "execution_count": 1,
   "id": "fb874d5f",
   "metadata": {},
   "outputs": [],
   "source": [
    "import numpy as np\n",
    "import matplotlib.pyplot as plt\n",
    "from scipy.signal import find_peaks"
   ]
  },
  {
   "cell_type": "markdown",
   "id": "418ef2f9",
   "metadata": {},
   "source": [
    "`data.npz` contains data products from a 5G base-station.\n",
    "\n",
    "* XYZ: (N_antenna, 2) cartesian antenna positions\n",
    "* S: (N_slot, N_antenna, N_antenna) covariance matrices per time slot.\n",
    "* T_slot: duration of a slot [s]\n",
    "* lambda_: channel wavelength [m]\n",
    "* src_model: (N_tx, 2) unit directions of transmitters in the cell area.\n",
    "\n",
    "Communication systems process data at high throughput. As such it is difficult to capture long antenna traces.\n",
    "Since throughput assessment via beamforming only requires solving positional inferance problems, we instead provide the (much) smaller covariance estimates between antennas per short time interval (1 [ms])."
   ]
  },
  {
   "cell_type": "code",
   "execution_count": 2,
   "id": "cc62ea82",
   "metadata": {},
   "outputs": [],
   "source": [
    "path='data/data.npz'\n",
    "df=np.load(path)\n",
    "xyz=df['XYZ']\n",
    "S=df['S']\n",
    "T_slot=df['T_slot']\n",
    "lambda_=df['lambda_']\n",
    "src_model=df['src_model']"
   ]
  },
  {
   "cell_type": "code",
   "execution_count": 3,
   "id": "50525610",
   "metadata": {},
   "outputs": [
    {
     "data": {
      "text/plain": [
       "((19, 2), (10000, 19, 19), array(0.001), array(0.33684546), (121, 2))"
      ]
     },
     "execution_count": 3,
     "metadata": {},
     "output_type": "execute_result"
    }
   ],
   "source": [
    "xyz.shape,S.shape,T_slot,lambda_,src_model.shape"
   ]
  },
  {
   "cell_type": "code",
   "execution_count": 4,
   "id": "922a832c",
   "metadata": {},
   "outputs": [
    {
     "data": {
      "image/png": "[encoded data removed]",
      "text/plain": [
       "<Figure size 432x288 with 1 Axes>"
      ]
     },
     "metadata": {
      "needs_background": "light"
     },
     "output_type": "display_data"
    }
   ],
   "source": [
    "plt.scatter(xyz[:,0],xyz[:,1])\n",
    "plt.show()"
   ]
  },
  {
   "cell_type": "code",
   "execution_count": 5,
   "id": "e946232e",
   "metadata": {},
   "outputs": [
    {
     "data": {
      "image/png": "[encoded data removed]",
      "text/plain": [
       "<Figure size 432x288 with 1 Axes>"
      ]
     },
     "metadata": {
      "needs_background": "light"
     },
     "output_type": "display_data"
    }
   ],
   "source": [
    "plt.scatter(src_model[:,0],src_model[:,1])\n",
    "plt.show()"
   ]
  },
  {
   "cell_type": "code",
   "execution_count": 6,
   "id": "cab8b4af",
   "metadata": {},
   "outputs": [
    {
     "data": {
      "image/png": "[encoded data removed]",
      "text/plain": [
       "<Figure size 432x288 with 1 Axes>"
      ]
     },
     "metadata": {
      "needs_background": "light"
     },
     "output_type": "display_data"
    }
   ],
   "source": [
    "plt.plot(xyz[:,0],xyz[:,1],'ro',src_model[:,0],src_model[:,1], 'go')\n",
    "plt.show()"
   ]
  },
  {
   "cell_type": "code",
   "execution_count": 7,
   "id": "b4a93247",
   "metadata": {},
   "outputs": [
    {
     "data": {
      "text/plain": [
       "(19, 19)"
      ]
     },
     "execution_count": 7,
     "metadata": {},
     "output_type": "execute_result"
    }
   ],
   "source": [
    "signal=S[1]\n",
    "signal.shape"
   ]
  },
  {
   "cell_type": "code",
   "execution_count": 8,
   "id": "11da088e",
   "metadata": {},
   "outputs": [
    {
     "data": {
      "text/plain": [
       "((19, 3600), (3600,))"
      ]
     },
     "execution_count": 8,
     "metadata": {},
     "output_type": "execute_result"
    }
   ],
   "source": [
    "thetas=np.arange(0,360,0.1)\n",
    "a=np.exp(-1j*2*np.pi/lambda_*(xyz@[np.cos(thetas*np.pi/180),np.sin(thetas*np.pi/180)])).reshape(19,-1)\n",
    "a.shape,thetas.shape"
   ]
  },
  {
   "cell_type": "code",
   "execution_count": 9,
   "id": "b33d9b72",
   "metadata": {},
   "outputs": [
    {
     "data": {
      "text/plain": [
       "(3600,)"
      ]
     },
     "execution_count": 9,
     "metadata": {},
     "output_type": "execute_result"
    }
   ],
   "source": [
    "P=np.zeros(thetas.shape)\n",
    "P.shape"
   ]
  },
  {
   "cell_type": "code",
   "execution_count": 501,
   "id": "0241621b",
   "metadata": {},
   "outputs": [
    {
     "data": {
      "text/plain": [
       "(19, 19)"
      ]
     },
     "execution_count": 501,
     "metadata": {},
     "output_type": "execute_result"
    }
   ],
   "source": [
    "eigval,eigvect=np.linalg.eig(signal)\n",
    "ids=np.abs(eigval).argsort()[:18]\n",
    "En=eigvect[:,ids]\n",
    "Ren=np.dot(En,En.conj().T)\n",
    "Ren.shape"
   ]
  },
  {
   "cell_type": "code",
   "execution_count": 502,
   "id": "e8d60ad2",
   "metadata": {},
   "outputs": [
    {
     "data": {
      "text/plain": [
       "(array([ 9, 11, 12, 18, 17, 16, 15, 14, 13, 10,  8,  7,  6,  5,  4,  3,  2,\n",
       "         1,  0]),\n",
       " array([700.71707554, 651.52028104, 488.92762622, 387.5602045 ,\n",
       "        222.77039532, 126.93250082, 101.11883509,  74.39381949,\n",
       "         71.29590607,  55.22765233,  63.74668343,  57.90845551,\n",
       "         58.16651101,  62.92973065,  62.26289149,  61.73023896,\n",
       "         61.01890492,  59.8202541 ,  59.3070782 ]))"
      ]
     },
     "execution_count": 502,
     "metadata": {},
     "output_type": "execute_result"
    }
   ],
   "source": [
    "eigval.argsort(),np.abs(eigval)"
   ]
  },
  {
   "cell_type": "code",
   "execution_count": 503,
   "id": "c587b9ad",
   "metadata": {},
   "outputs": [],
   "source": [
    "for i in range(len(thetas)):\n",
    "    P[i]=1/abs(np.dot(a[:,i].conj().T,np.dot(Ren,a[:,i])))"
   ]
  },
  {
   "cell_type": "code",
   "execution_count": 504,
   "id": "aba627b1",
   "metadata": {},
   "outputs": [
    {
     "data": {
      "image/png": "[encoded data removed]",
      "text/plain": [
       "<Figure size 432x288 with 1 Axes>"
      ]
     },
     "metadata": {
      "needs_background": "light"
     },
     "output_type": "display_data"
    }
   ],
   "source": [
    "plt.plot(thetas,P,'-k')\n",
    "plt.show()"
   ]
  },
  {
   "cell_type": "code",
   "execution_count": 505,
   "id": "1176f6f5",
   "metadata": {},
   "outputs": [
    {
     "data": {
      "text/plain": [
       "array([2435, 2434, 2436, ...,  568,  566,  567])"
      ]
     },
     "execution_count": 505,
     "metadata": {},
     "output_type": "execute_result"
    }
   ],
   "source": [
    "index=P.argsort()[::-1]\n",
    "index"
   ]
  },
  {
   "cell_type": "code",
   "execution_count": 506,
   "id": "fdf053f0",
   "metadata": {},
   "outputs": [
    {
     "data": {
      "text/plain": [
       "243.5"
      ]
     },
     "execution_count": 506,
     "metadata": {},
     "output_type": "execute_result"
    }
   ],
   "source": [
    "angle=thetas[index[0]]\n",
    "angle"
   ]
  },
  {
   "cell_type": "code",
   "execution_count": 507,
   "id": "b54f1f3e",
   "metadata": {},
   "outputs": [
    {
     "data": {
      "text/plain": [
       "(-0.44619781310980944, -0.8949343616020248)"
      ]
     },
     "execution_count": 507,
     "metadata": {},
     "output_type": "execute_result"
    }
   ],
   "source": [
    "x,y=np.cos(angle*np.pi/180),np.sin(angle*np.pi/180)\n",
    "x,y"
   ]
  },
  {
   "cell_type": "code",
   "execution_count": 508,
   "id": "9ccba400",
   "metadata": {},
   "outputs": [
    {
     "data": {
      "text/plain": [
       "(121, 2)"
      ]
     },
     "execution_count": 508,
     "metadata": {},
     "output_type": "execute_result"
    }
   ],
   "source": [
    "src_model.shape"
   ]
  },
  {
   "cell_type": "code",
   "execution_count": 509,
   "id": "98568cc6",
   "metadata": {},
   "outputs": [],
   "source": [
    "res=[]\n",
    "for xi,yi in src_model:\n",
    "    res.append(np.sqrt((xi-x)**2+(yi-y)**2))"
   ]
  },
  {
   "cell_type": "code",
   "execution_count": 510,
   "id": "d6201e40",
   "metadata": {},
   "outputs": [
    {
     "data": {
      "text/plain": [
       "59"
      ]
     },
     "execution_count": 510,
     "metadata": {},
     "output_type": "execute_result"
    }
   ],
   "source": [
    "res=np.array(res)\n",
    "res.argmin()"
   ]
  },
  {
   "cell_type": "code",
   "execution_count": 511,
   "id": "0992f227",
   "metadata": {},
   "outputs": [
    {
     "name": "stdout",
     "output_type": "stream",
     "text": [
      "[-0.44049768 -0.89775375]\n"
     ]
    }
   ],
   "source": [
    "print(src_model[res.argmin()])"
   ]
  },
  {
   "cell_type": "code",
   "execution_count": 512,
   "id": "c3d69e8f",
   "metadata": {},
   "outputs": [
    {
     "data": {
      "text/plain": [
       "(3600,)"
      ]
     },
     "execution_count": 512,
     "metadata": {},
     "output_type": "execute_result"
    }
   ],
   "source": [
    "P=np.zeros(thetas.shape)\n",
    "for i in range(len(thetas)):\n",
    "    P[i]=abs(np.dot(a[:,i].conj().T,np.dot(signal,a[:,i])))\n",
    "P=P/max(P)\n",
    "P.shape"
   ]
  },
  {
   "cell_type": "code",
   "execution_count": 513,
   "id": "0325bedd",
   "metadata": {},
   "outputs": [
    {
     "data": {
      "image/png": "[encoded data removed]",
      "text/plain": [
       "<Figure size 432x288 with 1 Axes>"
      ]
     },
     "metadata": {
      "needs_background": "light"
     },
     "output_type": "display_data"
    }
   ],
   "source": [
    "plt.plot(thetas,P,'-k')\n",
    "plt.show()"
   ]
  },
  {
   "cell_type": "code",
   "execution_count": 514,
   "id": "69bac61e",
   "metadata": {},
   "outputs": [
    {
     "data": {
      "text/plain": [
       "243.9"
      ]
     },
     "execution_count": 514,
     "metadata": {},
     "output_type": "execute_result"
    }
   ],
   "source": [
    "index=P.argsort()[::-1]\n",
    "angle=thetas[index[0]]\n",
    "angle"
   ]
  },
  {
   "cell_type": "code",
   "execution_count": 12,
   "id": "c8bb8801",
   "metadata": {},
   "outputs": [],
   "source": [
    "P=np.zeros(thetas.shape)\n",
    "for i in range(len(thetas)):\n",
    "    P[i]=1/abs(np.dot(a[:,i].conj().T,np.dot(np.linalg.inv(signal),a[:,i])))\n",
    "P=P/max(P)"
   ]
  },
  {
   "cell_type": "code",
   "execution_count": 13,
   "id": "cd17e367",
   "metadata": {},
   "outputs": [
    {
     "data": {
      "image/png": "[encoded data removed]",
      "text/plain": [
       "<Figure size 432x288 with 1 Axes>"
      ]
     },
     "metadata": {
      "needs_background": "light"
     },
     "output_type": "display_data"
    }
   ],
   "source": [
    "plt.plot(thetas,P,'-k')\n",
    "plt.show()"
   ]
  },
  {
   "cell_type": "code",
   "execution_count": 523,
   "id": "de2c71db",
   "metadata": {},
   "outputs": [
    {
     "data": {
      "text/plain": [
       "(array([ 875, 2053, 2351]), array([ 87.5, 205.3, 235.1]))"
      ]
     },
     "execution_count": 523,
     "metadata": {},
     "output_type": "execute_result"
    }
   ],
   "source": [
    "peaks,_=find_peaks(P,height=np.mean(P))\n",
    "peaks,thetas[peaks]"
   ]
  },
  {
   "cell_type": "code",
   "execution_count": 524,
   "id": "3b9ecbb7",
   "metadata": {},
   "outputs": [],
   "source": [
    "def doa(signal,xyz):\n",
    "    thetas=np.arange(0,360,0.1)\n",
    "    a=np.exp(-1j*2*np.pi/lambda_*(xyz@[np.cos(thetas*np.pi/180),np.sin(thetas*np.pi/180)])).reshape(19,-1)\n",
    "    P=np.zeros(thetas.shape)\n",
    "    for i in range(len(thetas)):\n",
    "        P[i]=1/abs(np.dot(a[:,i].conj().T,np.dot(np.linalg.inv(signal),a[:,i])))\n",
    "    peaks,_=find_peaks(P,height=np.mean(P))\n",
    "    return thetas[peaks]\n",
    "    "
   ]
  },
  {
   "cell_type": "code",
   "execution_count": 531,
   "id": "a92977ab",
   "metadata": {},
   "outputs": [
    {
     "name": "stdout",
     "output_type": "stream",
     "text": [
      "0 [ 87.3 207.5 242.3]\n",
      "1 [ 87.4 207.6 233.2]\n",
      "2 [ 87.2 207.4 233.9]\n",
      "3 [ 87.4 205.8 236.6]\n",
      "4 [ 87.5 206.5 236.2]\n",
      "5 [ 87.4 206.3 232.1]\n",
      "6 [ 87.5 206.9 234.3]\n",
      "7 [ 87.3 206.2 230. ]\n",
      "8 [ 87.4 204.6 235.9]\n",
      "9 [ 87.5 206.  234. ]\n"
     ]
    }
   ],
   "source": [
    "directions=[]\n",
    "for i in range(10):\n",
    "    peaks=doa(S[i*1000],xyz)\n",
    "    directions.append(peaks)\n",
    "    print(i,peaks)"
   ]
  },
  {
   "cell_type": "code",
   "execution_count": 533,
   "id": "ee0d192f",
   "metadata": {},
   "outputs": [],
   "source": [
    "directions=np.array(directions)"
   ]
  },
  {
   "cell_type": "code",
   "execution_count": 537,
   "id": "871f7fc1",
   "metadata": {},
   "outputs": [],
   "source": [
    "np.save('directions',directions)"
   ]
  },
  {
   "cell_type": "code",
   "execution_count": 539,
   "id": "eecba47c",
   "metadata": {},
   "outputs": [],
   "source": [
    "import scipy.io as io\n",
    "io.savemat('directions.mat', {'name': directions})"
   ]
  },
  {
   "cell_type": "code",
   "execution_count": 14,
   "id": "602f38de",
   "metadata": {},
   "outputs": [
    {
     "data": {
      "text/plain": [
       "(121, 3)"
      ]
     },
     "execution_count": 14,
     "metadata": {},
     "output_type": "execute_result"
    }
   ],
   "source": [
    "src=np.zeros((121,3))\n",
    "src.shape"
   ]
  },
  {
   "cell_type": "code",
   "execution_count": 15,
   "id": "8b9face8",
   "metadata": {},
   "outputs": [],
   "source": [
    "src[:,:2]=src_model"
   ]
  },
  {
   "cell_type": "code",
   "execution_count": 21,
   "id": "ed4ade2d",
   "metadata": {},
   "outputs": [],
   "source": [
    "for i in range(src.shape[0]):\n",
    "    src[i,2]=np.arctan(src[i,1]/src[i,0])\n",
    "    if src[i,0]<0:\n",
    "        src[i,2]+=np.pi\n",
    "    if src[i,2]<0:\n",
    "        src[i,2]+=2*np.pi"
   ]
  },
  {
   "cell_type": "code",
   "execution_count": 554,
   "id": "af116d4c",
   "metadata": {},
   "outputs": [],
   "source": [
    "io.savemat('data.mat', {'directions': directions,'xyz':xyz,'src_model':src})"
   ]
  },
  {
   "cell_type": "code",
   "execution_count": 28,
   "id": "a9242019",
   "metadata": {},
   "outputs": [
    {
     "data": {
      "image/png": "[encoded data removed]",
      "text/plain": [
       "<Figure size 432x288 with 1 Axes>"
      ]
     },
     "metadata": {
      "needs_background": "light"
     },
     "output_type": "display_data"
    }
   ],
   "source": [
    "plt.polar()\n",
    "plt.plot(src[:,2],np.ones(len(src)),'go',thetas*np.pi/180,P,'-k')\n",
    "plt.show()"
   ]
  },
  {
   "cell_type": "code",
   "execution_count": 30,
   "id": "84de11c0",
   "metadata": {},
   "outputs": [
    {
     "data": {
      "image/png": "[encoded data removed]",
      "text/plain": [
       "<Figure size 432x288 with 1 Axes>"
      ]
     },
     "metadata": {
      "needs_background": "light"
     },
     "output_type": "display_data"
    }
   ],
   "source": [
    "plt.plot(src[:,2]/np.pi*180,np.ones(len(src)),'go',thetas,P,'-k')\n",
    "plt.show()"
   ]
  },
  {
   "cell_type": "code",
   "execution_count": null,
   "id": "2c787941",
   "metadata": {},
   "outputs": [],
   "source": []
  }
 ],
 "metadata": {
  "kernelspec": {
   "display_name": "Python 3",
   "language": "python",
   "name": "python3"
  },
  "language_info": {
   "codemirror_mode": {
    "name": "ipython",
    "version": 3
   },
   "file_extension": ".py",
   "mimetype": "text/x-python",
   "name": "python",
   "nbconvert_exporter": "python",
   "pygments_lexer": "ipython3",
   "version": "3.8.8"
  }
 },
 "nbformat": 4,
 "nbformat_minor": 5
}