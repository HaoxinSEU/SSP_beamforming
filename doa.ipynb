{
 "cells": [
  {
   "cell_type": "code",
   "execution_count": 436,
   "id": "fb874d5f",
   "metadata": {},
   "outputs": [],
   "source": [
    "import numpy as np\n",
    "import matplotlib.pyplot as plt"
   ]
  },
  {
   "cell_type": "markdown",
   "id": "418ef2f9",
   "metadata": {},
   "source": [
    "`data.npz` contains data products from a 5G base-station.\n",
    "\n",
    "* XYZ: (N_antenna, 2) cartesian antenna positions\n",
    "* S: (N_slot, N_antenna, N_antenna) covariance matrices per time slot.\n",
    "* T_slot: duration of a slot [s]\n",
    "* lambda_: channel wavelength [m]\n",
    "* src_model: (N_tx, 2) unit directions of transmitters in the cell area.\n",
    "\n",
    "Communication systems process data at high throughput. As such it is difficult to capture long antenna traces.\n",
    "Since throughput assessment via beamforming only requires solving positional inferance problems, we instead provide the (much) smaller covariance estimates between antennas per short time interval (1 [ms])."
   ]
  },
  {
   "cell_type": "code",
   "execution_count": 437,
   "id": "cc62ea82",
   "metadata": {},
   "outputs": [],
   "source": [
    "path='data/data.npz'\n",
    "df=np.load(path)\n",
    "xyz=df['XYZ']\n",
    "S=df['S']\n",
    "T_slot=df['T_slot']\n",
    "lambda_=df['lambda_']\n",
    "src_model=df['src_model']"
   ]
  },
  {
   "cell_type": "code",
   "execution_count": 438,
   "id": "50525610",
   "metadata": {},
   "outputs": [
    {
     "data": {
      "text/plain": [
       "((19, 2), (10000, 19, 19), array(0.001), array(0.33684546), (121, 2))"
      ]
     },
     "execution_count": 438,
     "metadata": {},
     "output_type": "execute_result"
    }
   ],
   "source": [
    "xyz.shape,S.shape,T_slot,lambda_,src_model.shape"
   ]
  },
  {
   "cell_type": "code",
   "execution_count": 439,
   "id": "922a832c",
   "metadata": {},
   "outputs": [
    {
     "data": {
      "image/png": "[encoded data removed]",
      "text/plain": [
       "<Figure size 432x288 with 1 Axes>"
      ]
     },
     "metadata": {
      "needs_background": "light"
     },
     "output_type": "display_data"
    }
   ],
   "source": [
    "plt.scatter(xyz[:,0],xyz[:,1])\n",
    "plt.show()"
   ]
  },
  {
   "cell_type": "code",
   "execution_count": 440,
   "id": "e946232e",
   "metadata": {},
   "outputs": [
    {
     "data": {
      "image/png": "[encoded data removed]",
      "text/plain": [
       "<Figure size 432x288 with 1 Axes>"
      ]
     },
     "metadata": {
      "needs_background": "light"
     },
     "output_type": "display_data"
    }
   ],
   "source": [
    "plt.scatter(src_model[:,0],src_model[:,1])\n",
    "plt.show()"
   ]
  },
  {
   "cell_type": "code",
   "execution_count": 441,
   "id": "cab8b4af",
   "metadata": {},
   "outputs": [
    {
     "data": {
      "image/png": "[encoded data removed]",
      "text/plain": [
       "<Figure size 432x288 with 1 Axes>"
      ]
     },
     "metadata": {
      "needs_background": "light"
     },
     "output_type": "display_data"
    }
   ],
   "source": [
    "plt.plot(xyz[:,0],xyz[:,1],'ro',src_model[:,0],src_model[:,1], 'go')\n",
    "plt.show()"
   ]
  },
  {
   "cell_type": "code",
   "execution_count": 442,
   "id": "b4a93247",
   "metadata": {},
   "outputs": [
    {
     "data": {
      "text/plain": [
       "(19, 19)"
      ]
     },
     "execution_count": 442,
     "metadata": {},
     "output_type": "execute_result"
    }
   ],
   "source": [
    "signal=S[0]\n",
    "signal.shape"
   ]
  },
  {
   "cell_type": "code",
   "execution_count": 443,
   "id": "6551624a",
   "metadata": {},
   "outputs": [
    {
     "data": {
      "text/plain": [
       "((19, 3600), (3600,))"
      ]
     },
     "execution_count": 443,
     "metadata": {},
     "output_type": "execute_result"
    }
   ],
   "source": [
    "thetas=np.arange(0,360,0.1)\n",
    "a=np.exp(-1j*2*np.pi/lambda_*(xyz@[np.cos(thetas*np.pi/180),np.sin(thetas*np.pi/180)])).reshape(19,-1)\n",
    "a.shape,thetas.shape"
   ]
  },
  {
   "cell_type": "code",
   "execution_count": 444,
   "id": "79319b4f",
   "metadata": {},
   "outputs": [
    {
     "data": {
      "text/plain": [
       "(3600,)"
      ]
     },
     "execution_count": 444,
     "metadata": {},
     "output_type": "execute_result"
    }
   ],
   "source": [
    "P=np.zeros(thetas.shape)\n",
    "P.shape"
   ]
  },
  {
   "cell_type": "code",
   "execution_count": 445,
   "id": "51fb7a46",
   "metadata": {},
   "outputs": [
    {
     "data": {
      "text/plain": [
       "(19, 19)"
      ]
     },
     "execution_count": 445,
     "metadata": {},
     "output_type": "execute_result"
    }
   ],
   "source": [
    "J = np.flip(np.eye(19), axis=1)\n",
    "signal=signal+np.dot(J,np.dot(signal.conj(),J))\n",
    "signal.shape"
   ]
  },
  {
   "cell_type": "code",
   "execution_count": 446,
   "id": "ffc0aa7e",
   "metadata": {},
   "outputs": [
    {
     "data": {
      "text/plain": [
       "(19, 19)"
      ]
     },
     "execution_count": 446,
     "metadata": {},
     "output_type": "execute_result"
    }
   ],
   "source": [
    "eigval,eigvect=np.linalg.eig(signal)\n",
    "ids=np.abs(eigval).argsort()[:18]\n",
    "En=eigvect[:,ids]\n",
    "Ren=np.dot(En,En.conj().T)\n",
    "Ren.shape"
   ]
  },
  {
   "cell_type": "code",
   "execution_count": 447,
   "id": "45d3f30c",
   "metadata": {},
   "outputs": [
    {
     "data": {
      "text/plain": [
       "(array([12, 13, 16, 17, 18, 15, 14, 11, 10,  9,  8,  7,  6,  5,  4,  3,  2,\n",
       "         1,  0]),\n",
       " array([1113.20231749,  999.97816908,  825.71168503,  580.35662408,\n",
       "         564.33677608,  453.01611125,  400.64986985,  312.24469831,\n",
       "         256.75047997,  182.32027702,  155.12727002,  142.00165633,\n",
       "         116.35603233,  118.02660385,  129.66654567,  128.59252703,\n",
       "         121.16322352,  123.36445299,  123.5149708 ]))"
      ]
     },
     "execution_count": 447,
     "metadata": {},
     "output_type": "execute_result"
    }
   ],
   "source": [
    "eigval.argsort(),np.abs(eigval)"
   ]
  },
  {
   "cell_type": "code",
   "execution_count": 448,
   "id": "00c6bc54",
   "metadata": {},
   "outputs": [],
   "source": [
    "for i in range(len(thetas)):\n",
    "    P[i]=1/abs(np.dot(a[:,i].conj().T,np.dot(Ren,a[:,i])))"
   ]
  },
  {
   "cell_type": "code",
   "execution_count": 449,
   "id": "61936db0",
   "metadata": {},
   "outputs": [
    {
     "data": {
      "image/png": "[encoded data removed]",
      "text/plain": [
       "<Figure size 432x288 with 1 Axes>"
      ]
     },
     "metadata": {
      "needs_background": "light"
     },
     "output_type": "display_data"
    }
   ],
   "source": [
    "plt.plot(thetas,P,'-k')\n",
    "plt.show()"
   ]
  },
  {
   "cell_type": "code",
   "execution_count": 450,
   "id": "f849b1bc",
   "metadata": {},
   "outputs": [
    {
     "data": {
      "text/plain": [
       "array([2605, 2606, 2604, ..., 1695, 1696, 3515])"
      ]
     },
     "execution_count": 450,
     "metadata": {},
     "output_type": "execute_result"
    }
   ],
   "source": [
    "index=P.argsort()[::-1]\n",
    "index"
   ]
  },
  {
   "cell_type": "code",
   "execution_count": 451,
   "id": "68ecfff0",
   "metadata": {},
   "outputs": [
    {
     "data": {
      "text/plain": [
       "260.5"
      ]
     },
     "execution_count": 451,
     "metadata": {},
     "output_type": "execute_result"
    }
   ],
   "source": [
    "angle=thetas[index[0]]\n",
    "angle"
   ]
  },
  {
   "cell_type": "code",
   "execution_count": 452,
   "id": "a09837a0",
   "metadata": {},
   "outputs": [
    {
     "data": {
      "text/plain": [
       "(-0.16504760586067818, -0.9862856015372313)"
      ]
     },
     "execution_count": 452,
     "metadata": {},
     "output_type": "execute_result"
    }
   ],
   "source": [
    "x,y=np.cos(angle*np.pi/180),np.sin(angle*np.pi/180)\n",
    "x,y"
   ]
  },
  {
   "cell_type": "code",
   "execution_count": 453,
   "id": "8d2600f9",
   "metadata": {},
   "outputs": [
    {
     "data": {
      "text/plain": [
       "(121, 2)"
      ]
     },
     "execution_count": 453,
     "metadata": {},
     "output_type": "execute_result"
    }
   ],
   "source": [
    "src_model.shape"
   ]
  },
  {
   "cell_type": "code",
   "execution_count": 454,
   "id": "37c44ad5",
   "metadata": {},
   "outputs": [],
   "source": [
    "res=[]\n",
    "for xi,yi in src_model:\n",
    "    res.append(np.sqrt((xi-x)**2+(yi-y)**2))"
   ]
  },
  {
   "cell_type": "code",
   "execution_count": 455,
   "id": "fc6253c3",
   "metadata": {},
   "outputs": [
    {
     "data": {
      "text/plain": [
       "37"
      ]
     },
     "execution_count": 455,
     "metadata": {},
     "output_type": "execute_result"
    }
   ],
   "source": [
    "res=np.array(res)\n",
    "res.argmin()"
   ]
  },
  {
   "cell_type": "code",
   "execution_count": 456,
   "id": "6c605912",
   "metadata": {},
   "outputs": [
    {
     "name": "stdout",
     "output_type": "stream",
     "text": [
      "[-0.1515934  -0.98844294]\n"
     ]
    }
   ],
   "source": [
    "print(src_model[res.argmin()])"
   ]
  },
  {
   "cell_type": "code",
   "execution_count": 457,
   "id": "2bb41388",
   "metadata": {},
   "outputs": [
    {
     "data": {
      "text/plain": [
       "(3600,)"
      ]
     },
     "execution_count": 457,
     "metadata": {},
     "output_type": "execute_result"
    }
   ],
   "source": [
    "P=np.zeros(thetas.shape)\n",
    "for i in range(len(thetas)):\n",
    "    P[i]=abs(np.dot(a[:,i].conj().T,np.dot(signal,a[:,i])))\n",
    "P=P/max(P)\n",
    "P.shape"
   ]
  },
  {
   "cell_type": "code",
   "execution_count": 458,
   "id": "4e0dba26",
   "metadata": {},
   "outputs": [
    {
     "data": {
      "image/png": "[encoded data removed]",
      "text/plain": [
       "<Figure size 432x288 with 1 Axes>"
      ]
     },
     "metadata": {
      "needs_background": "light"
     },
     "output_type": "display_data"
    }
   ],
   "source": [
    "plt.plot(thetas,P,'-k')\n",
    "plt.show()"
   ]
  },
  {
   "cell_type": "code",
   "execution_count": 459,
   "id": "611bf8a8",
   "metadata": {},
   "outputs": [
    {
     "data": {
      "text/plain": [
       "260.5"
      ]
     },
     "execution_count": 459,
     "metadata": {},
     "output_type": "execute_result"
    }
   ],
   "source": [
    "index=P.argsort()[::-1]\n",
    "angle=thetas[index[0]]\n",
    "angle"
   ]
  },
  {
   "cell_type": "code",
   "execution_count": null,
   "id": "263751f1",
   "metadata": {},
   "outputs": [],
   "source": []
  }
 ],
 "metadata": {
  "kernelspec": {
   "display_name": "Python 3",
   "language": "python",
   "name": "python3"
  },
  "language_info": {
   "codemirror_mode": {
    "name": "ipython",
    "version": 3
   },
   "file_extension": ".py",
   "mimetype": "text/x-python",
   "name": "python",
   "nbconvert_exporter": "python",
   "pygments_lexer": "ipython3",
   "version": "3.7.3"
  }
 },
 "nbformat": 4,
 "nbformat_minor": 5
}
